{
 "cells": [
  {
   "cell_type": "markdown",
   "metadata": {},
   "source": [
    "# list\n",
    "\n",
    "Python内置的一种数据类型是列表：list。\n",
    "list是一种有序的集合，可以随时添加和删除其中的元素。"
   ]
  },
  {
   "cell_type": "code",
   "execution_count": 39,
   "metadata": {},
   "outputs": [
    {
     "name": "stdout",
     "output_type": "stream",
     "text": [
      "['Michael', 'Bob', 'Tracy']\n"
     ]
    }
   ],
   "source": [
    "# 比如，列出班里所有同学的名字，就可以用一个list表示：\n",
    "\n",
    "classmates = ['Michael', 'Bob', 'Tracy']\n",
    "print classmates"
   ]
  },
  {
   "cell_type": "code",
   "execution_count": 40,
   "metadata": {},
   "outputs": [
    {
     "name": "stdout",
     "output_type": "stream",
     "text": [
      "3\n"
     ]
    }
   ],
   "source": [
    "# 变量classmates就是一个list。\n",
    "# 用len()函数可以获得list元素的个数：\n",
    "\n",
    "print len(classmates)"
   ]
  },
  {
   "cell_type": "code",
   "execution_count": 41,
   "metadata": {},
   "outputs": [
    {
     "name": "stdout",
     "output_type": "stream",
     "text": [
      "Michael\n",
      "Bob\n",
      "Tracy\n"
     ]
    }
   ],
   "source": [
    "# 用索引来访问list中每一个位置的元素，记得索引是从0开始的：\n",
    "\n",
    "print classmates[0]\n",
    "print classmates[1]\n",
    "print classmates[2]\n",
    "# print classmates[3]\n",
    "# 当索引超出了范围时，Python会报一个IndexError错误，\n",
    "# 所以，要确保索引不要越界，\n",
    "# 记得最后一个元素的索引是len(classmates) - 1。"
   ]
  },
  {
   "cell_type": "code",
   "execution_count": 42,
   "metadata": {},
   "outputs": [
    {
     "name": "stdout",
     "output_type": "stream",
     "text": [
      "Tracy\n"
     ]
    }
   ],
   "source": [
    "# 如果要取最后一个元素，\n",
    "# 除了计算索引位置外，\n",
    "# 还可以用-1做索引，直接获取最后一个元素：\n",
    "\n",
    "print classmates[-1]"
   ]
  },
  {
   "cell_type": "code",
   "execution_count": 43,
   "metadata": {},
   "outputs": [
    {
     "name": "stdout",
     "output_type": "stream",
     "text": [
      "Bob\n",
      "Michael\n"
     ]
    }
   ],
   "source": [
    "# 以此类推，可以获取倒数第2个、倒数第3个：\n",
    "\n",
    "print classmates[-2]\n",
    "print classmates[-3]\n",
    "# print classmates[-4]\n",
    "# 当然，倒数第4个就越界了。"
   ]
  },
  {
   "cell_type": "code",
   "execution_count": 44,
   "metadata": {},
   "outputs": [
    {
     "name": "stdout",
     "output_type": "stream",
     "text": [
      "['Michael', 'Bob', 'Tracy', 'Adam']\n"
     ]
    }
   ],
   "source": [
    "# list是一个可变的有序表，所以，可以往list中追加元素到末尾：\n",
    "\n",
    "classmates.append('Adam')\n",
    "print classmates"
   ]
  },
  {
   "cell_type": "code",
   "execution_count": 45,
   "metadata": {},
   "outputs": [
    {
     "name": "stdout",
     "output_type": "stream",
     "text": [
      "['Michael', 'Jack', 'Bob', 'Tracy', 'Adam']\n"
     ]
    }
   ],
   "source": [
    "# 也可以把元素插入到指定的位置，比如索引号为1的位置：\n",
    "\n",
    "classmates.insert(1, 'Jack')\n",
    "print classmates"
   ]
  },
  {
   "cell_type": "code",
   "execution_count": 46,
   "metadata": {},
   "outputs": [
    {
     "name": "stdout",
     "output_type": "stream",
     "text": [
      "['Michael', 'Jack', 'Bob', 'Tracy']\n"
     ]
    }
   ],
   "source": [
    "# 要删除list末尾的元素，用pop()方法：\n",
    "\n",
    "classmates.pop()\n",
    "print classmates"
   ]
  },
  {
   "cell_type": "code",
   "execution_count": 47,
   "metadata": {},
   "outputs": [
    {
     "name": "stdout",
     "output_type": "stream",
     "text": [
      "['Michael', 'Sarah', 'Bob', 'Tracy']\n"
     ]
    }
   ],
   "source": [
    "# 要把某个元素替换成别的元素，可以直接赋值给对应的索引位置：\n",
    "\n",
    "classmates[1] = 'Sarah'\n",
    "print classmates"
   ]
  },
  {
   "cell_type": "code",
   "execution_count": null,
   "metadata": {},
   "outputs": [],
   "source": [
    "# list里面的元素的数据类型也可以不同，比如：\n",
    "\n",
    "L = ['Apple', 123, True]"
   ]
  },
  {
   "cell_type": "code",
   "execution_count": 51,
   "metadata": {},
   "outputs": [
    {
     "name": "stdout",
     "output_type": "stream",
     "text": [
      "4\n"
     ]
    }
   ],
   "source": [
    "# list元素也可以是另一个list，比如：\n",
    "\n",
    "s = ['python', 'java', ['asp', 'php'], 'scheme']\n",
    "print len(s)"
   ]
  },
  {
   "cell_type": "code",
   "execution_count": 50,
   "metadata": {},
   "outputs": [
    {
     "name": "stdout",
     "output_type": "stream",
     "text": [
      "['asp', 'php']\n",
      "['python', 'java', ['asp', 'php'], 'scheme']\n"
     ]
    }
   ],
   "source": [
    "# 要注意s只有4个元素，\n",
    "# 其中s[2]又是一个list，如果拆开写就更容易理解了：\n",
    "\n",
    "p = ['asp', 'php']\n",
    "s = ['python', 'java', p, 'scheme']\n",
    "print p\n",
    "print s"
   ]
  },
  {
   "cell_type": "code",
   "execution_count": 49,
   "metadata": {},
   "outputs": [
    {
     "name": "stdout",
     "output_type": "stream",
     "text": [
      "0\n"
     ]
    }
   ],
   "source": [
    "# 要拿到'php'可以写p[1]或者s[2][1]，\n",
    "# 因此s可以看成是一个二维数组，\n",
    "# 类似的还有三维、四维……数组，不过很少用到。\n",
    "\n",
    "# 如果一个list中一个元素也没有，\n",
    "# 就是一个空的list，它的长度为0：\n",
    "\n",
    "L = []\n",
    "print len(L)"
   ]
  }
 ],
 "metadata": {
  "kernelspec": {
   "display_name": "Python 2",
   "language": "python",
   "name": "python2"
  },
  "language_info": {
   "codemirror_mode": {
    "name": "ipython",
    "version": 2
   },
   "file_extension": ".py",
   "mimetype": "text/x-python",
   "name": "python",
   "nbconvert_exporter": "python",
   "pygments_lexer": "ipython2",
   "version": "2.7.12"
  }
 },
 "nbformat": 4,
 "nbformat_minor": 2
}
